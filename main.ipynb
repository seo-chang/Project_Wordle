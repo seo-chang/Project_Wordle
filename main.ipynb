{
 "cells": [
  {
   "cell_type": "markdown",
   "source": [
    "TODO: Some words contain multiple times in csv file. Need to remove redundant words\n"
   ],
   "metadata": {
    "collapsed": false,
    "pycharm": {
     "name": "#%% md\n"
    }
   }
  },
  {
   "cell_type": "code",
   "execution_count": 1,
   "outputs": [],
   "source": [
    "import pandas as pd\n",
    "df = pd.read_csv('Word lists in csv/Aword.csv', sep=', ', engine='python')\n"
   ],
   "metadata": {
    "collapsed": false,
    "pycharm": {
     "name": "#%%\n"
    }
   }
  },
  {
   "cell_type": "code",
   "execution_count": 2,
   "outputs": [
    {
     "data": {
      "text/plain": "(11615, 1)"
     },
     "execution_count": 2,
     "metadata": {},
     "output_type": "execute_result"
    }
   ],
   "source": [
    "df.shape"
   ],
   "metadata": {
    "collapsed": false,
    "pycharm": {
     "name": "#%%\n"
    }
   }
  },
  {
   "cell_type": "code",
   "execution_count": 48,
   "outputs": [
    {
     "name": "stdout",
     "output_type": "stream",
     "text": [
      "0               a\n",
      "1               a\n",
      "2               a\n",
      "3               a\n",
      "4               a\n",
      "5               a\n",
      "6               a\n",
      "7               a\n",
      "8              a-\n",
      "9             a 1\n",
      "10            aam\n",
      "11      aard-vark\n",
      "12      aard-wolf\n",
      "13        aaronic\n",
      "14      aaronical\n",
      "15    aaron's rod\n",
      "16    aaron's rod\n",
      "17            ab-\n",
      "18             ab\n",
      "19          abaca\n",
      "20      abacinate\n",
      "21    abacination\n",
      "22      abaciscus\n",
      "23        abacist\n",
      "24          aback\n",
      "25          aback\n",
      "26          aback\n",
      "27          aback\n",
      "28      abactinal\n",
      "29       abaction\n",
      "30        abactor\n",
      "31        abaculi\n",
      "32       abaculus\n",
      "33       abacuses\n",
      "34          abaci\n",
      "35         abacus\n",
      "36         abacus\n",
      "37         abacus\n",
      "38         abacus\n",
      "39         abacus\n",
      "40          abada\n",
      "41        abaddon\n",
      "42        abaddon\n",
      "43          abaft\n",
      "44          abaft\n",
      "45      abaisance\n",
      "46        abaiser\n",
      "47         abaist\n",
      "48     abalienate\n",
      "49     abalienate\n",
      "Name: a, dtype: object\n",
      "1\n"
     ]
    }
   ],
   "source": [
    "lis = df['a']\n",
    "print(lis[:50])\n",
    "print(len(lis[0]))"
   ],
   "metadata": {
    "collapsed": false,
    "pycharm": {
     "name": "#%%\n"
    }
   }
  },
  {
   "cell_type": "code",
   "execution_count": 49,
   "outputs": [],
   "source": [
    "# removing redundant words & remove non alphabet character\n",
    "letterALis = set()\n",
    "for word in lis:\n",
    "    i= 0\n",
    "    while i < len(word):\n",
    "        if ord(word[i]) not in range(97,123):\n",
    "            word = word[:i] + word[i+1:]\n",
    "            continue\n",
    "        i+=1\n",
    "    if len(word) == 5:\n",
    "        letterALis.add(word)"
   ],
   "metadata": {
    "collapsed": false,
    "pycharm": {
     "name": "#%%\n"
    }
   }
  },
  {
   "cell_type": "code",
   "execution_count": 50,
   "outputs": [
    {
     "name": "stdout",
     "output_type": "stream",
     "text": [
      "{'audit', 'agaty', 'auget', 'arnot', 'ayein', 'aband', 'aided', 'aflat', 'aries', 'aflow', 'ablet', 'airer', 'alula', 'argus', 'awkly', 'allow', 'agave', 'aurae', 'aviso', 'album', 'anion', 'accoy', 'acerb', 'aster', 'abeam', 'antes', 'adder', 'alogy', 'aloes', 'alose', 'afoam', 'abort', 'amble', 'axmen', 'aphis', 'azoth', 'asset', 'abler', 'arnut', 'amity', 'adept', 'assai', 'among', 'alone', 'aknow', 'antic', 'attle', 'apara', 'aread', 'abaft', 'areed', 'amine', 'along', 'adays', 'araby', 'anime', 'alike', 'alias', 'adeno', 'aloft', 'acari', 'apiol', 'amuse', 'abnet', 'acute', 'arris', 'axman', 'aloin', 'ament', 'alpha', 'annal', 'aulic', 'apply', 'avail', 'about', 'admit', 'aglet', 'apode', 'acrid', 'avian', 'awful', 'attry', 'agood', 'asker', 'aheap', 'agent', 'adyta', 'alack', 'asoak', 'argot', 'avant', 'abyme', 'aline', 'areng', 'archy', 'abord', 'anent', 'avoke', 'arval', 'astay', 'azurn', 'afric', 'adown', 'adage', 'allot', 'argal', 'abhal', 'arara', 'artly', 'almry', 'axled', 'abaci', 'abuna', 'amuck', 'affix', 'antae', 'avast', 'azyme', 'avise', 'aroid', 'aught', 'allis', 'anoil', 'aspen', 'afoot', 'alfet', 'argon', 'agios', 'antra', 'aucht', 'adore', 'atrip', 'ashes', 'actor', 'armet', 'aloud', 'arnee', 'alate', 'anona', 'ambit', 'auger', 'alday', 'atria', 'avile', 'aegis', 'adorn', 'angio', 'armor', 'amiss', 'aston', 'assot', 'aubin', 'abate', 'asses', 'agone', 'abele', 'ayond', 'ablen', 'arpen', 'arles', 'agnus', 'alloo', 'arere', 'asian', 'askew', 'anode', 'ayont', 'archi', 'aroma', 'ascii', 'axile', 'ahold', 'anigh', 'ambos', 'alley', 'auric', 'arsis', 'agast', 'algum', 'anile', 'acred', 'arist', 'afire', 'amply', 'argue', 'agrin', 'alife', 'acorn', 'agrom', 'aboma', 'apaid', 'anear', 'awake', 'agony', 'atimy', 'atter', 'absis', 'aphid', 'adact', 'adrad', 'abear', 'aggry', 'after', 'aimer', 'apods', 'augur', 'alary', 'alien', 'abysm', 'adunc', 'alive', 'areal', 'adobe', 'amzel', 'adeem', 'amber', 'almah', 'armil', 'amphi', 'aller', 'ascus', 'await', 'alban', 'apace', 'abuzz', 'aberr', 'angle', 'antre', 'ayrie', 'ample', 'aurum', 'ambry', 'acini', 'ampyx', 'aloof', 'again', 'amyss', 'algor', 'anise', 'apeak', 'argil', 'atomy', 'apert', 'atake', 'apsis', 'arise', 'anger', 'apple', 'areek', 'abies', 'apair', 'atony', 'arras', 'agist', 'apery', 'amain', 'arear', 'angry', 'allah', 'abdal', 'anaks', 'agape', 'allod', 'arest', 'azote', 'alish', 'anglo', 'alure', 'algal', 'argol', 'azure', 'above', 'asyla', 'awash', 'award', 'awoke', 'agger', 'angel', 'agued', 'abime', 'albyn', 'amice', 'asked', 'avoid', 'arian', 'appay', 'ancon', 'awned', 'alvei', 'alert', 'apron', 'almug', 'annul', 'arace', 'adoor', 'aland', 'addax', 'ameer', 'awork', 'arena', 'abyss', 'agree', 'agile', 'arrow', 'algae', 'aryan', 'anker', 'abode', 'afoul', 'aimed', 'artow', 'agami', 'aitch', 'aleak', 'agora', 'agend', 'added', 'anvil', 'aigre', 'ataxy', 'ampul', 'adapt', 'abaca', 'aknee', 'amide', 'avens', 'asura', 'amsel', 'aside', 'agley', 'aroph', 'arson', 'assay', 'alarm', 'acted', 'attic', 'ached', 'algol', 'apart', 'awarn', 'allay', 'alman', 'alpia', 'animi', 'aptly', 'apian', 'alibi', 'alway', 'annex', 'ailed', 'amaze', 'abada', 'anura', 'amort', 'ankle', 'ahull', 'admix', 'alpen', 'aurin', 'abash', 'ansae', 'apoda', 'angor', 'areas', 'aisle', 'april', 'amido', 'aider', 'algid', 'abbey', 'alter', 'amass', 'annoy', 'ambon', 'adieu', 'agasp', 'arret', 'avale', 'armed', 'akene', 'amour', 'agate', 'atone', 'annat', 'argas', 'aorta', 'abbot', 'albee', 'aging', 'alloy', 'arbor', 'adrip', 'aired', 'amove', 'abuse', 'avert', 'amend', 'aback', 'ardor', 'afore', 'agama', 'altho', 'agush', 'avena', 'attar', 'arefy', 'adeps', 'anele', 'anorn', 'aware', 'atoll', 'altar', 'amess', 'aport', 'arose', 'ation', 'adure', 'acock', 'adopt', 'aerie', 'astro', 'ahigh', 'aslug', 'anury', 'aunty', 'addle', 'adust', 'ahead', 'abhor', 'aboon', 'array', 'alder', 'allyl', 'astel', 'acton', 'abase', 'azoic', 'attal', 'apish', 'axiom', 'amate', 'aspic', 'almeh', 'appui', 'aggri', 'atlas', 'asper', 'aural', 'astun', 'abide', 'astir', 'axial', 'aglow', 'aztec', 'atilt', 'altos', 'ancle', 'anomy', 'ashen', 'adult', 'aping', 'align', 'afrit', 'ariel', 'awing', 'areca', 'abray', 'acold'}\n"
     ]
    }
   ],
   "source": [
    "print(letterALis)"
   ],
   "metadata": {
    "collapsed": false,
    "pycharm": {
     "name": "#%%\n"
    }
   }
  },
  {
   "cell_type": "code",
   "execution_count": 52,
   "outputs": [
    {
     "name": "stdout",
     "output_type": "stream",
     "text": [
      "{'aaaaa', 'words'}\n"
     ]
    }
   ],
   "source": [
    "# few test cases\n",
    "test = [\"wor2d's\", '24aaaaa' ]\n",
    "temp = set()\n",
    "for word in test:\n",
    "    i= 0\n",
    "    while i < len(word):\n",
    "        if ord(word[i]) not in range(97,123):\n",
    "            word = word[:i] + word[i+1:]\n",
    "            continue\n",
    "        i+=1\n",
    "    if len(word) == 5:\n",
    "        temp.add(word)\n",
    "print(temp)"
   ],
   "metadata": {
    "collapsed": false,
    "pycharm": {
     "name": "#%%\n"
    }
   }
  },
  {
   "cell_type": "code",
   "execution_count": null,
   "outputs": [],
   "source": [],
   "metadata": {
    "collapsed": false,
    "pycharm": {
     "name": "#%%\n"
    }
   }
  }
 ],
 "metadata": {
  "kernelspec": {
   "display_name": "Python 3",
   "language": "python",
   "name": "python3"
  },
  "language_info": {
   "codemirror_mode": {
    "name": "ipython",
    "version": 2
   },
   "file_extension": ".py",
   "mimetype": "text/x-python",
   "name": "python",
   "nbconvert_exporter": "python",
   "pygments_lexer": "ipython2",
   "version": "2.7.6"
  }
 },
 "nbformat": 4,
 "nbformat_minor": 0
}